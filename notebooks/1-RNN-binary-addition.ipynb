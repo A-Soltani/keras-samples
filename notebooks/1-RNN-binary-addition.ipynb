{
 "cells": [
  {
   "cell_type": "markdown",
   "id": "b4201ecd",
   "metadata": {},
   "source": [
    "# Step 1 − Import the modules"
   ]
  },
  {
   "cell_type": "code",
   "execution_count": 25,
   "id": "20b0ed19",
   "metadata": {},
   "outputs": [],
   "source": [
    "import numpy as np\n",
    "import tensorflow as tf\n",
    "from tensorflow import keras\n",
    "from keras.models import Sequential\n",
    "from keras.layers import SimpleRNN"
   ]
  },
  {
   "cell_type": "markdown",
   "id": "e3837c06",
   "metadata": {},
   "source": [
    "# Step 2 − Load data"
   ]
  },
  {
   "cell_type": "code",
   "execution_count": 26,
   "id": "326e1667",
   "metadata": {},
   "outputs": [],
   "source": [
    "np.random.seed(0)\n",
    "\n",
    "class dataset_utility:\n",
    "    \n",
    "    @staticmethod\n",
    "    def get_data(samples_count, binary_dim):\n",
    "        \n",
    "        largest_number = pow(2,binary_dim)\n",
    "        \n",
    "        samples = list()\n",
    "        for i in range(samples_count):            \n",
    "            a = np.random.randint(largest_number/2)\n",
    "            b = np.random.randint(largest_number/2)\n",
    "            # true answer => summation\n",
    "            c = a + b            \n",
    "                    \n",
    "            int_array = np.array([[a], [b], [c]], dtype=np.uint8)            \n",
    "            binary_array = np.unpackbits(int_array, axis=1)\n",
    "            \n",
    "            samples.append(binary_array)\n",
    "            \n",
    "        return samples\n",
    "\n",
    "    @staticmethod\n",
    "    def get_inputs_and_target(sample):\n",
    "        a = sample[0]\n",
    "        b = sample[1]\n",
    "        c = sample[2]\n",
    "        return a, b, c"
   ]
  },
  {
   "cell_type": "code",
   "execution_count": 27,
   "id": "1fa4f449",
   "metadata": {},
   "outputs": [],
   "source": [
    "# datasets config\n",
    "binary_dim = 8\n",
    "dataset_size = 10000\n",
    "train_dataset_size = 7000    \n",
    "data = dataset_utility.get_data(dataset_size, binary_dim)\n",
    "dataset_train = data[:train_dataset_size]\n",
    "dataset_test = data[train_dataset_size:]"
   ]
  },
  {
   "cell_type": "markdown",
   "id": "3fd86f7b",
   "metadata": {},
   "source": [
    "# Step 3 − Create the model"
   ]
  },
  {
   "cell_type": "code",
   "execution_count": 28,
   "id": "08a347e6",
   "metadata": {},
   "outputs": [],
   "source": [
    "output_space_dim = 128 # 2^8 = 128 dimensionality of the output space\n",
    "\n",
    "model = Sequential()\n",
    "model.add(SimpleRNN(output_space_dim, activation=\"sigmoid\", return_sequences=True))\n",
    "model.add(TimeDistributed(Dense(1)))\n",
    "model.add(Activation('sigmoid'))"
   ]
  },
  {
   "cell_type": "code",
   "execution_count": 30,
   "id": "d4c65046",
   "metadata": {},
   "outputs": [],
   "source": [
    "model.compile(loss='binary_crossentropy',\n",
    "              optimizer='adam',\n",
    "              metrics=['accuracy'])"
   ]
  }
 ],
 "metadata": {
  "kernelspec": {
   "display_name": "Python 3",
   "language": "python",
   "name": "python3"
  },
  "language_info": {
   "codemirror_mode": {
    "name": "ipython",
    "version": 3
   },
   "file_extension": ".py",
   "mimetype": "text/x-python",
   "name": "python",
   "nbconvert_exporter": "python",
   "pygments_lexer": "ipython3",
   "version": "3.9.5"
  }
 },
 "nbformat": 4,
 "nbformat_minor": 5
}
