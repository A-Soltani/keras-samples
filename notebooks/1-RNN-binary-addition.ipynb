{
 "cells": [
  {
   "cell_type": "markdown",
   "id": "b4201ecd",
   "metadata": {},
   "source": [
    "# Step 1 − Import the modules"
   ]
  },
  {
   "cell_type": "code",
   "execution_count": 59,
   "id": "20b0ed19",
   "metadata": {},
   "outputs": [],
   "source": [
    "import numpy as np\n",
    "import tensorflow as tf\n",
    "from tensorflow import keras\n",
    "from keras.models import Sequential\n",
    "from keras.layers import Activation, TimeDistributed, Dense, SimpleRNN"
   ]
  },
  {
   "cell_type": "markdown",
   "id": "e3837c06",
   "metadata": {},
   "source": [
    "# Step 2 − Load data"
   ]
  },
  {
   "cell_type": "code",
   "execution_count": 63,
   "id": "326e1667",
   "metadata": {},
   "outputs": [],
   "source": [
    "np.random.seed(0)\n",
    "\n",
    "class dataset_utility:\n",
    "    \n",
    "    @staticmethod\n",
    "    def get_data(samples_count, binary_dim):\n",
    "        \n",
    "        largest_number = pow(2,binary_dim)\n",
    "        \n",
    "        samples = list()\n",
    "        for i in range(samples_count):            \n",
    "            a = np.random.randint(largest_number/2)\n",
    "            b = np.random.randint(largest_number/2)\n",
    "            # true answer => summation\n",
    "            c = a + b            \n",
    "                    \n",
    "            int_array = np.array([[a], [b], [c]], dtype=np.uint8)            \n",
    "            binary_array = np.unpackbits(int_array, axis=1)\n",
    "            \n",
    "            samples.append(np.array(binary_array))\n",
    "            \n",
    "        return samples\n",
    "\n",
    "    @staticmethod\n",
    "    def get_inputs_and_target(sample):\n",
    "        a = sample[0]\n",
    "        b = sample[1]\n",
    "        c = sample[2]\n",
    "        return a, b, c"
   ]
  },
  {
   "cell_type": "code",
   "execution_count": 64,
   "id": "1fa4f449",
   "metadata": {},
   "outputs": [],
   "source": [
    "# datasets config\n",
    "binary_dim = 8\n",
    "dataset_size = 10000\n",
    "train_dataset_size = 7000    \n",
    "data = dataset_utility.get_data(dataset_size, binary_dim)\n",
    "dataset_train = data[:train_dataset_size]\n",
    "dataset_test = data[train_dataset_size:]"
   ]
  },
  {
   "cell_type": "code",
   "execution_count": 65,
   "id": "a6351139",
   "metadata": {},
   "outputs": [],
   "source": [
    "x_train = np.array(dataset_train)[:,:2,:]\n",
    "y_train = np.array(dataset_train)[:,2,:]"
   ]
  },
  {
   "cell_type": "markdown",
   "id": "3fd86f7b",
   "metadata": {},
   "source": [
    "# Step 3 − Create the model"
   ]
  },
  {
   "cell_type": "code",
   "execution_count": 71,
   "id": "ecbd7a82",
   "metadata": {},
   "outputs": [],
   "source": [
    "output_space_dim = 16\n",
    "\n",
    "model = Sequential()\n",
    "model.add(SimpleRNN(output_space_dim, input_shape=(8, 4),return_sequences=True,activation=\"sigmoid\"))\n",
    "model.add(TimeDistributed(Dense(1)))\n",
    "model.add(Activation('sigmoid'))"
   ]
  },
  {
   "cell_type": "markdown",
   "id": "0afc20c3",
   "metadata": {},
   "source": [
    "# Step 4 − Compile the model"
   ]
  },
  {
   "cell_type": "code",
   "execution_count": 72,
   "id": "08a347e6",
   "metadata": {},
   "outputs": [
    {
     "name": "stdout",
     "output_type": "stream",
     "text": [
      "Model: \"sequential_10\"\n",
      "_________________________________________________________________\n",
      "Layer (type)                 Output Shape              Param #   \n",
      "=================================================================\n",
      "simple_rnn_10 (SimpleRNN)    (None, 8, 16)             336       \n",
      "_________________________________________________________________\n",
      "time_distributed_8 (TimeDist (None, 8, 1)              17        \n",
      "_________________________________________________________________\n",
      "activation_8 (Activation)    (None, 8, 1)              0         \n",
      "=================================================================\n",
      "Total params: 353\n",
      "Trainable params: 353\n",
      "Non-trainable params: 0\n",
      "_________________________________________________________________\n"
     ]
    }
   ],
   "source": [
    "model.compile(loss='binary_crossentropy',\n",
    "              optimizer='adam',\n",
    "              metrics=['accuracy'])\n",
    "model.summary()"
   ]
  },
  {
   "cell_type": "markdown",
   "id": "ea84d084",
   "metadata": {},
   "source": [
    "# Step 5 − Train the model"
   ]
  },
  {
   "cell_type": "code",
   "execution_count": 74,
   "id": "0700b5c8",
   "metadata": {},
   "outputs": [],
   "source": [
    "#model.fit(x_train, y_train, 32, 1000) "
   ]
  },
  {
   "cell_type": "code",
   "execution_count": null,
   "id": "962e2e6a",
   "metadata": {},
   "outputs": [],
   "source": []
  }
 ],
 "metadata": {
  "kernelspec": {
   "display_name": "Python 3",
   "language": "python",
   "name": "python3"
  },
  "language_info": {
   "codemirror_mode": {
    "name": "ipython",
    "version": 3
   },
   "file_extension": ".py",
   "mimetype": "text/x-python",
   "name": "python",
   "nbconvert_exporter": "python",
   "pygments_lexer": "ipython3",
   "version": "3.9.5"
  }
 },
 "nbformat": 4,
 "nbformat_minor": 5
}
